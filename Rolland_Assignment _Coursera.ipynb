{
 "cells": [
  {
   "cell_type": "markdown",
   "id": "fbead870",
   "metadata": {},
   "source": [
    "# My Jupyter Notebook on IBM Watson Studio"
   ]
  },
  {
   "cell_type": "markdown",
   "id": "dec08942",
   "metadata": {},
   "source": [
    "**Mochammad Rolland Akbar**\n",
    "now as software developer and willing to learn data science"
   ]
  },
  {
   "cell_type": "markdown",
   "id": "07b67fd9",
   "metadata": {},
   "source": [
    "*I am interested in data science because i want to learn something new and data science is popular today*"
   ]
  },
  {
   "cell_type": "markdown",
   "id": "6fe1a87f",
   "metadata": {},
   "source": [
    "### beginner calculation"
   ]
  },
  {
   "cell_type": "code",
   "execution_count": 1,
   "id": "2b99ca63",
   "metadata": {},
   "outputs": [
    {
     "data": {
      "text/plain": [
       "36.0"
      ]
     },
     "execution_count": 1,
     "metadata": {},
     "output_type": "execute_result"
    }
   ],
   "source": [
    "x = 9\n",
    "y = 27.0\n",
    "z = x + y\n",
    "z"
   ]
  },
  {
   "cell_type": "markdown",
   "id": "9a78aa4e",
   "metadata": {},
   "source": [
    "This is horizontal rule\n",
    "***\n",
    "---\n",
    "___\n",
    "\n",
    "\n",
    "This is blocked quotes\n",
    "> this is blocked quotes\n",
    "\n",
    "This is Numered List\n",
    "1. Number One\n",
    "2. Number Two\n",
    "3. Number Three\n",
    "\n",
    "klik [here](https://jupyter.org/) for jupyter website\n"
   ]
  },
  {
   "cell_type": "code",
   "execution_count": null,
   "id": "2c694b3c",
   "metadata": {},
   "outputs": [],
   "source": []
  }
 ],
 "metadata": {
  "kernelspec": {
   "display_name": "Python 3 (ipykernel)",
   "language": "python",
   "name": "python3"
  },
  "language_info": {
   "codemirror_mode": {
    "name": "ipython",
    "version": 3
   },
   "file_extension": ".py",
   "mimetype": "text/x-python",
   "name": "python",
   "nbconvert_exporter": "python",
   "pygments_lexer": "ipython3",
   "version": "3.9.5"
  }
 },
 "nbformat": 4,
 "nbformat_minor": 5
}
